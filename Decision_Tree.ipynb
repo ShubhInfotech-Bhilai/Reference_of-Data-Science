{
  "nbformat": 4,
  "nbformat_minor": 0,
  "metadata": {
    "colab": {
      "name": "Decision Tree.ipynb",
      "provenance": []
    },
    "kernelspec": {
      "name": "python3",
      "display_name": "Python 3"
    },
    "language_info": {
      "name": "python"
    }
  },
  "cells": [
    {
      "cell_type": "markdown",
      "source": [
        "**Decision trees** are supervised learning algorithms used for both, classification and regression tasks where we will concentrate on classification in this first part of our decision tree tutorial.\n",
        "\n",
        "Decision trees are assigned to the information based learning algorithms which use different measures of information gain for learning. We can use decision trees for issues where we have continuous but also categorical input and target features.\n",
        "\n",
        "The main idea of decision trees is to find those  **descriptive**  which contain the most \"information\" regarding the target feature and then split the dataset along the values of these features such that the target feature values for the resulting sub_datasets are as pure as possible --> The descriptive feature which leaves the target feature most purely is said to be the most informative one. This process of finding the \"most informative\" feature is done until we accomplish a stopping criteria where we then finally end up in so called leaf nodes.\n",
        "\n",
        "The leaf nodes contain the predictions we will make for new query instances presented to our trained model. This is possible since the model has kind of learned the underlying structure of the training data and hence can, given some assumptions, make predictions about the target feature value (class) of unseen query instances.\n",
        "\n",
        "A decision tree mainly contains of a root node, interior nodes, and leaf nodes which are then connected by branches."
      ],
      "metadata": {
        "id": "u56LcFZ-YT0C"
      }
    },
    {
      "cell_type": "markdown",
      "source": [
        "![](https://python-course.eu/images/machine-learning/Decision_Tree1_500w.webp)"
      ],
      "metadata": {
        "id": "RJSm6k7OY3M6"
      }
    },
    {
      "cell_type": "markdown",
      "source": [
        "![](https://python-course.eu/images/machine-learning/Categorical_Continuous_Scales_600w.webp)"
      ],
      "metadata": {
        "id": "XLNLFBhgY-kM"
      }
    },
    {
      "cell_type": "markdown",
      "source": [
        "![](https://chris-said.io/assets/2020_cross_entropy/cross-entropy.png)"
      ],
      "metadata": {
        "id": "HialKP6uZX72"
      }
    },
    {
      "cell_type": "code",
      "execution_count": 4,
      "metadata": {
        "id": "P7UAAXlYYFw8",
        "colab": {
          "base_uri": "https://localhost:8080/"
        },
        "outputId": "1f123ccd-a866-4136-87ad-4d925746009e"
      },
      "outputs": [
        {
          "output_type": "stream",
          "name": "stdout",
          "text": [
            "P= 1.000 Q=1.000\n"
          ]
        }
      ],
      "source": [
        "from math import log2\n",
        "def cross_entropy(p,q):\n",
        "  return -sum( [    p[i]*log2(  q[i]  )     for i in range( len(p))] )\n",
        "\n",
        "p=[0.10,0.40,0.50]\n",
        "q=[0.80,0.15,0.05]\n",
        "events=['red','green','blue']\n",
        "print(\"P= %0.3f Q=%0.3f\" % ( sum(p), sum(q)) )"
      ]
    },
    {
      "cell_type": "code",
      "source": [
        "from matplotlib import pyplot as plt\n",
        "plt.subplot(2,1,1)\n",
        "plt.bar(events,p)\n",
        "\n",
        "\n",
        "plt.subplot(2,1,2)\n",
        "plt.bar(events,q)\n"
      ],
      "metadata": {
        "colab": {
          "base_uri": "https://localhost:8080/",
          "height": 282
        },
        "id": "E1P19XtpbzCX",
        "outputId": "73d6d8c1-1c34-4f3a-937b-ccff0d0e8ca7"
      },
      "execution_count": 6,
      "outputs": [
        {
          "output_type": "execute_result",
          "data": {
            "text/plain": [
              "<BarContainer object of 3 artists>"
            ]
          },
          "metadata": {},
          "execution_count": 6
        },
        {
          "output_type": "display_data",
          "data": {
            "text/plain": [
              "<Figure size 432x288 with 2 Axes>"
            ],
            "image/png": "[encoded data removed]"
          },
          "metadata": {
            "needs_background": "light"
          }
        }
      ]
    },
    {
      "cell_type": "code",
      "source": [
        "cepq=cross_entropy(p,q)\n",
        "print('H(P,Q):%.3f ' % cepq)"
      ],
      "metadata": {
        "colab": {
          "base_uri": "https://localhost:8080/"
        },
        "id": "l-fNbCZvdqQu",
        "outputId": "c1e1d856-620d-44c0-922d-b841e18eaa01"
      },
      "execution_count": 7,
      "outputs": [
        {
          "output_type": "stream",
          "name": "stdout",
          "text": [
            "H(P,Q):3.288 \n"
          ]
        }
      ]
    },
    {
      "cell_type": "code",
      "source": [
        "ceqp=cross_entropy(q,q)\n",
        "print('H(Q,P):%.3f ' % ceqp)"
      ],
      "metadata": {
        "colab": {
          "base_uri": "https://localhost:8080/"
        },
        "id": "KHnvsRSseGJP",
        "outputId": "a1220f0c-b29a-45e3-fed1-2f8f27177027"
      },
      "execution_count": 8,
      "outputs": [
        {
          "output_type": "stream",
          "name": "stdout",
          "text": [
            "H(Q,P):0.884 \n"
          ]
        }
      ]
    },
    {
      "cell_type": "markdown",
      "source": [
        "**1. Present a dataset containing of a number of training instances characterized by a number of descriptive features and a target feature**\n",
        "\n",
        "**2. Train the decision tree model by continuously splitting the target feature along the values of the descriptive features using a measure of information gain during the training process**\n",
        "\n",
        "**3. Grow the tree until we accomplish a stopping criteria --> create leaf nodes which represent the predictions we want to make for new query instances**\n",
        "\n",
        "\n",
        "**4. Show query instances to the tree and run down the tree until we arrive at leaf nodes**\n",
        "\n",
        "**5. DONE - Congratulations you have found the answers to your questions**\n",
        "\n",
        "\n"
      ],
      "metadata": {
        "id": "EfwRSjy4ZD2V"
      }
    },
    {
      "cell_type": "markdown",
      "source": [
        "![](https://python-course.eu/images/machine-learning/Train_Predict_simplified_720w.webp)"
      ],
      "metadata": {
        "id": "kfHzz4W9ZfgE"
      }
    },
    {
      "cell_type": "markdown",
      "source": [
        "**The C5.0 Decision Tree Algorithm\n",
        "While there are numerous implementations of decision trees, one of the most well-known is the C5.0 algorithm. The C5.0 algorithm has become the industry standatd for producing decision trees, because it does well fo rmost types of problems directly out of the box. Compared to more advanced and sophisticated machine learning mnodels (e.g. Neural Networks and Support Vector Machines), the decision trees under the C5.0 algorithm generally perform nearly as well but are much easier to understan and deploy.**\n",
        "\n",
        "Choosing the Best Split\n",
        "The first main challenge that a decision tree will face is to identify which feature to split upon. If the segements of the data contain only a single class, tehy are considered pure.\n",
        "\n",
        "https://rpubs.com/cyobero/C50\n",
        "C5.0 uses the concept of entropy for measuring purity. The entropy of a sample of data indicates how mixed the class values are; the minimum value of 0 indicates that the sample is completely homogenous, while 1 indicates the maximum amount of disorder. The defintion of entropy can be specified as\n",
        "\n",
        "![](https://encrypted-tbn0.gstatic.com/images?q=tbn:ANd9GcTuvsjMg367MgnubB5tWuM1GkbKJvPPCTF8-A&usqp=CAU)\n",
        "\n",
        "\n",
        "\n",
        "In equation 1, for a given segment of data (S), the term c refers to the number of differenct class levels, and pi refers to the proportion of values falling into the cass level i. For example, if we suppose we have a partiition of data with two classes: red (60 percent) and white (40 percent), we can calculate its entropy as\n",
        "\n",
        "**−0.6×log20.6−0.4×log20.4=0.9709506**"
      ],
      "metadata": {
        "id": "PCdwF3fraLJT"
      }
    },
    {
      "cell_type": "code",
      "source": [
        ""
      ],
      "metadata": {
        "id": "PyQi4uHPlklh"
      },
      "execution_count": null,
      "outputs": []
    },
    {
      "cell_type": "markdown",
      "source": [
        "![](https://www.snippetnuggets.com/interviewQuestions/machineLearning/basics/images/measure-entropy-decision-tree.png)"
      ],
      "metadata": {
        "id": "bJwM3WThc1by"
      }
    },
    {
      "cell_type": "markdown",
      "source": [
        "![](https://www.saedsayad.com/images/Entropy_2.png)"
      ],
      "metadata": {
        "id": "oHMLWm52dIav"
      }
    },
    {
      "cell_type": "markdown",
      "source": [
        "1. Iterative Dichotomiser 3 (ID3)\n",
        "This algorithm is used for selecting the splitting by calculating information gain. Information gain for each level of the tree is calculated recursively.\n",
        "\n",
        "2. C4.5\n",
        "This algorithm is the modification of the ID3 algorithm. It uses information gain or gain ratio for selecting the best attribute. It can handle both continuous and missing attribute values."
      ],
      "metadata": {
        "id": "b8pboNJRnQlK"
      }
    },
    {
      "cell_type": "code",
      "source": [
        "import numpy as np\n",
        "import pandas as pd\n",
        "from math import log, e\n",
        "\n",
        "import timeit\n",
        "\n",
        "def entropy1(labels, base=None):\n",
        "  vc = pd.Series(labels).value_counts(normalize=True, sort=False)\n",
        "  base = e if base is None else base\n",
        "  return -(vc * np.log(vc)/np.log(base)).sum()\n",
        "\n",
        "def entropy(labels, base=None):\n",
        "  value,counts = np.unique(labels, return_counts=True)\n",
        "  norm_counts = counts / counts.sum()\n",
        "  base = e if base is None else base\n",
        "  return -(norm_counts * np.log(norm_counts)/np.log(base)).sum()\n",
        "\n",
        "labels = [1,3,5,2,3,5,3,2,1,3,4,5]\n",
        "\n",
        "print(entropy1(labels))"
      ],
      "metadata": {
        "colab": {
          "base_uri": "https://localhost:8080/"
        },
        "id": "omfRSJGUlmpe",
        "outputId": "0dbb51d3-bb0e-465d-b6dc-ec1f694c9065"
      },
      "execution_count": null,
      "outputs": [
        {
          "output_type": "stream",
          "name": "stdout",
          "text": [
            "1.5171063970610277\n"
          ]
        }
      ]
    },
    {
      "cell_type": "code",
      "source": [
        "import pandas as pd \n",
        "import numpy as np\n",
        "from sklearn.datasets import load_iris\n",
        "from sklearn import tree"
      ],
      "metadata": {
        "id": "jPAubp1XnpZX"
      },
      "execution_count": null,
      "outputs": []
    },
    {
      "cell_type": "code",
      "source": [
        "iris=load_iris()\n",
        "print(iris.feature_names) "
      ],
      "metadata": {
        "colab": {
          "base_uri": "https://localhost:8080/"
        },
        "id": "9JBgs72NntAn",
        "outputId": "4ade333c-288e-4f2c-e19c-97f202e146b5"
      },
      "execution_count": null,
      "outputs": [
        {
          "output_type": "stream",
          "name": "stdout",
          "text": [
            "['sepal length (cm)', 'sepal width (cm)', 'petal length (cm)', 'petal width (cm)']\n"
          ]
        }
      ]
    },
    {
      "cell_type": "markdown",
      "source": [
        "Remove the Labels\n",
        "Now, we will remove the elements in the 0th, 50th, and 100th position. 0th element belongs to the Setosa species, 50th belongs Versicolor species and the 100th belongs to the Virginica species.\n",
        "\n",
        "This will remove the labels for us to train our decision tree classifier better and check if it is able to classify the data well."
      ],
      "metadata": {
        "id": "8XIz-pqEn6Fb"
      }
    },
    {
      "cell_type": "code",
      "source": [
        "#Spilitting the dataset\n",
        "removed =[0,50,100]\n",
        "new_target = np.delete(iris.target,removed)\n",
        "new_data = np.delete(iris.data,removed, axis=0) "
      ],
      "metadata": {
        "id": "ETd2ao-4n5TD"
      },
      "execution_count": null,
      "outputs": []
    },
    {
      "cell_type": "code",
      "source": [
        "#train classifier\n",
        "clf = tree.DecisionTreeClassifier() # defining decision tree classifier\n",
        "clf=clf.fit(new_data,new_target) # train data on new data and new target\n",
        "prediction = clf.predict(iris.data[removed]) #  assign removed data as input\n"
      ],
      "metadata": {
        "id": "A7UTAHHvoFmR"
      },
      "execution_count": null,
      "outputs": []
    },
    {
      "cell_type": "code",
      "source": [
        "print(\"Original Labels\",iris.target[removed])\n",
        "print(\"Labels Predicted\",prediction)"
      ],
      "metadata": {
        "colab": {
          "base_uri": "https://localhost:8080/"
        },
        "id": "E6prrfaToLQH",
        "outputId": "441653d1-e0e7-442c-b0fc-2993c20b3ee0"
      },
      "execution_count": null,
      "outputs": [
        {
          "output_type": "stream",
          "name": "stdout",
          "text": [
            "Original Labels [0 1 2]\n",
            "Labels Predicted [0 1 2]\n"
          ]
        }
      ]
    },
    {
      "cell_type": "code",
      "source": [
        "\n",
        "tree.plot_tree(clf,filled=True, rounded=True) "
      ],
      "metadata": {
        "colab": {
          "base_uri": "https://localhost:8080/",
          "height": 543
        },
        "id": "AIywN-GIoRHy",
        "outputId": "278ca5b5-2f76-4627-aade-5fd9ca847dfb"
      },
      "execution_count": null,
      "outputs": [
        {
          "output_type": "execute_result",
          "data": {
            "text/plain": [
              "[Text(0.5, 0.9166666666666666, 'X[3] <= 0.8\\ngini = 0.667\\nsamples = 147\\nvalue = [49, 49, 49]'),\n",
              " Text(0.4230769230769231, 0.75, 'gini = 0.0\\nsamples = 49\\nvalue = [49, 0, 0]'),\n",
              " Text(0.5769230769230769, 0.75, 'X[3] <= 1.75\\ngini = 0.5\\nsamples = 98\\nvalue = [0, 49, 49]'),\n",
              " Text(0.3076923076923077, 0.5833333333333334, 'X[2] <= 4.95\\ngini = 0.171\\nsamples = 53\\nvalue = [0, 48, 5]'),\n",
              " Text(0.15384615384615385, 0.4166666666666667, 'X[3] <= 1.65\\ngini = 0.042\\nsamples = 47\\nvalue = [0, 46, 1]'),\n",
              " Text(0.07692307692307693, 0.25, 'gini = 0.0\\nsamples = 46\\nvalue = [0, 46, 0]'),\n",
              " Text(0.23076923076923078, 0.25, 'gini = 0.0\\nsamples = 1\\nvalue = [0, 0, 1]'),\n",
              " Text(0.46153846153846156, 0.4166666666666667, 'X[3] <= 1.55\\ngini = 0.444\\nsamples = 6\\nvalue = [0, 2, 4]'),\n",
              " Text(0.38461538461538464, 0.25, 'gini = 0.0\\nsamples = 3\\nvalue = [0, 0, 3]'),\n",
              " Text(0.5384615384615384, 0.25, 'X[0] <= 6.95\\ngini = 0.444\\nsamples = 3\\nvalue = [0, 2, 1]'),\n",
              " Text(0.46153846153846156, 0.08333333333333333, 'gini = 0.0\\nsamples = 2\\nvalue = [0, 2, 0]'),\n",
              " Text(0.6153846153846154, 0.08333333333333333, 'gini = 0.0\\nsamples = 1\\nvalue = [0, 0, 1]'),\n",
              " Text(0.8461538461538461, 0.5833333333333334, 'X[2] <= 4.85\\ngini = 0.043\\nsamples = 45\\nvalue = [0, 1, 44]'),\n",
              " Text(0.7692307692307693, 0.4166666666666667, 'X[1] <= 3.1\\ngini = 0.444\\nsamples = 3\\nvalue = [0, 1, 2]'),\n",
              " Text(0.6923076923076923, 0.25, 'gini = 0.0\\nsamples = 2\\nvalue = [0, 0, 2]'),\n",
              " Text(0.8461538461538461, 0.25, 'gini = 0.0\\nsamples = 1\\nvalue = [0, 1, 0]'),\n",
              " Text(0.9230769230769231, 0.4166666666666667, 'gini = 0.0\\nsamples = 42\\nvalue = [0, 0, 42]')]"
            ]
          },
          "metadata": {},
          "execution_count": 16
        },
        {
          "output_type": "display_data",
          "data": {
            "text/plain": [
              "<Figure size 432x288 with 1 Axes>"
            ],
            "image/png": "[encoded data removed]"
          },
          "metadata": {
            "needs_background": "light"
          }
        }
      ]
    }
  ]
}