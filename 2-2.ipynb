{
 "cells": [
  {
   "cell_type": "code",
   "execution_count": 8,
   "metadata": {},
   "outputs": [],
   "source": [
    "%config IPCompleter.greedy = True\n",
    "%config InlineBackend.figure_format = 'retina'\n",
    "\n",
    "import matplotlib.pyplot as plt\n",
    "import numpy as np"
   ]
  },
  {
   "cell_type": "markdown",
   "metadata": {
    "slideshow": {
     "slide_type": "slide"
    }
   },
   "source": [
    "# Creating your first machine learning model with Scikit-Learn\n",
    "\n",
    "Creating your first machine learning model with Scikit-Learn\n",
    "\n",
    "Scikit-learn : https://scikit-learn.org/"
   ]
  },
  {
   "cell_type": "code",
   "execution_count": 1,
   "metadata": {
    "slideshow": {
     "slide_type": "slide"
    }
   },
   "outputs": [
    {
     "data": {
      "text/plain": [
       "['DESCR', 'data', 'feature_names', 'frame', 'images', 'target', 'target_names']"
      ]
     },
     "execution_count": 1,
     "metadata": {},
     "output_type": "execute_result"
    }
   ],
   "source": [
    "from sklearn import datasets\n",
    "digits = datasets.load_digits()\n",
    "dir(digits)"
   ]
  },
  {
   "cell_type": "code",
   "execution_count": 2,
   "metadata": {},
   "outputs": [
    {
     "name": "stdout",
     "output_type": "stream",
     "text": [
      ".. _digits_dataset:\n",
      "\n",
      "Optical recognition of handwritten digits dataset\n",
      "--------------------------------------------------\n",
      "\n",
      "**Data Set Characteristics:**\n",
      "\n",
      "    :Number of Instances: 1797\n",
      "    :Number of Attributes: 64\n",
      "    :Attribute Information: 8x8 image of integer pixels in the range 0..16.\n",
      "    :Missing Attribute Values: None\n",
      "    :Creator: E. Alpaydin (alpaydin '@' boun.edu.tr)\n",
      "    :Date: July; 1998\n",
      "\n",
      "This is a copy of the test set of the UCI ML hand-written digits datasets\n",
      "https://archive.ics.uci.edu/ml/datasets/Optical+Recognition+of+Handwritten+Digits\n",
      "\n",
      "The data set contains images of hand-written digits: 10 classes where\n",
      "each class refers to a digit.\n",
      "\n",
      "Preprocessing programs made available by NIST were used to extract\n",
      "normalized bitmaps of handwritten digits from a preprinted form. From a\n",
      "total of 43 people, 30 contributed to the training set and different 13\n",
      "to the test set. 32x32 bitmaps are divided into nonoverlapping blocks of\n",
      "4x4 and the number of on pixels are counted in each block. This generates\n",
      "an input matrix of 8x8 where each element is an integer in the range\n",
      "0..16. This reduces dimensionality and gives invariance to small\n",
      "distortions.\n",
      "\n",
      "For info on NIST preprocessing routines, see M. D. Garris, J. L. Blue, G.\n",
      "T. Candela, D. L. Dimmick, J. Geist, P. J. Grother, S. A. Janet, and C.\n",
      "L. Wilson, NIST Form-Based Handprint Recognition System, NISTIR 5469,\n",
      "1994.\n",
      "\n",
      ".. topic:: References\n",
      "\n",
      "  - C. Kaynak (1995) Methods of Combining Multiple Classifiers and Their\n",
      "    Applications to Handwritten Digit Recognition, MSc Thesis, Institute of\n",
      "    Graduate Studies in Science and Engineering, Bogazici University.\n",
      "  - E. Alpaydin, C. Kaynak (1998) Cascading Classifiers, Kybernetika.\n",
      "  - Ken Tang and Ponnuthurai N. Suganthan and Xi Yao and A. Kai Qin.\n",
      "    Linear dimensionalityreduction using relevance weighted LDA. School of\n",
      "    Electrical and Electronic Engineering Nanyang Technological University.\n",
      "    2005.\n",
      "  - Claudio Gentile. A New Approximate Maximal Margin Classification\n",
      "    Algorithm. NIPS. 2000.\n",
      "\n"
     ]
    }
   ],
   "source": [
    "print(digits.DESCR)"
   ]
  },
  {
   "cell_type": "code",
   "execution_count": 3,
   "metadata": {},
   "outputs": [
    {
     "name": "stdout",
     "output_type": "stream",
     "text": [
      "Shape of images: (1797, 8, 8)\n"
     ]
    }
   ],
   "source": [
    "print('Shape of images: {}'.format(digits.images.shape))"
   ]
  },
  {
   "cell_type": "code",
   "execution_count": 4,
   "metadata": {},
   "outputs": [
    {
     "name": "stdout",
     "output_type": "stream",
     "text": [
      "X (Examples) : (1797, 64)\n"
     ]
    }
   ],
   "source": [
    "print('X (Examples) : {}'.format(digits.data.shape))"
   ]
  },
  {
   "cell_type": "code",
   "execution_count": 5,
   "metadata": {},
   "outputs": [
    {
     "name": "stdout",
     "output_type": "stream",
     "text": [
      "Y (Labels) : (1797,)\n"
     ]
    }
   ],
   "source": [
    "print('Y (Labels) : {}'.format(digits.target.shape))"
   ]
  },
  {
   "cell_type": "code",
   "execution_count": 6,
   "metadata": {},
   "outputs": [
    {
     "name": "stdout",
     "output_type": "stream",
     "text": [
      "Set of output classes: {[0 1 2 3 4 5 6 7 8 9]}\n"
     ]
    }
   ],
   "source": [
    "print('Set of output classes: {{{}}}'.format(digits.target_names))"
   ]
  },
  {
   "cell_type": "markdown",
   "metadata": {
    "slideshow": {
     "slide_type": "subslide"
    }
   },
   "source": [
    "Feature matrix $X\\in{\\rm I\\!R}^{m, n}$, $Y\\in{\\rm I\\!R}^{m}$; $m=1797$ samples, $n=64$ feature dimensions"
   ]
  },
  {
   "cell_type": "code",
   "execution_count": 8,
   "metadata": {
    "slideshow": {
     "slide_type": "slide"
    }
   },
   "outputs": [
    {
     "name": "stdout",
     "output_type": "stream",
     "text": [
      "[[ 0.  0.  5. 13.  9.  1.  0.  0.]\n",
      " [ 0.  0. 13. 15. 10. 15.  5.  0.]\n",
      " [ 0.  3. 15.  2.  0. 11.  8.  0.]\n",
      " [ 0.  4. 12.  0.  0.  8.  8.  0.]\n",
      " [ 0.  5.  8.  0.  0.  9.  8.  0.]\n",
      " [ 0.  4. 11.  0.  1. 12.  7.  0.]\n",
      " [ 0.  2. 14.  5. 10. 12.  0.  0.]\n",
      " [ 0.  0.  6. 13. 10.  0.  0.  0.]]\n"
     ]
    }
   ],
   "source": [
    "print(digits.images[0])"
   ]
  },
  {
   "cell_type": "code",
   "execution_count": 13,
   "metadata": {
    "slideshow": {
     "slide_type": "slide"
    }
   },
   "outputs": [
    {
     "data": {
      "text/plain": [
       "<matplotlib.image.AxesImage at 0x1cee00cfe80>"
      ]
     },
     "execution_count": 13,
     "metadata": {},
     "output_type": "execute_result"
    },
    {
     "data": {
      "image/png": "[encoded data removed]",
      "text/plain": [
       "<Figure size 432x288 with 1 Axes>"
      ]
     },
     "metadata": {
      "image/png": {
       "height": 248,
       "width": 245
      },
      "needs_background": "light"
     },
     "output_type": "display_data"
    }
   ],
   "source": [
    "plt.figure()\n",
    "plt.imshow(16- digits.images[5], cmap='gray')"
   ]
  },
  {
   "cell_type": "code",
   "execution_count": 10,
   "metadata": {
    "slideshow": {
     "slide_type": "slide"
    }
   },
   "outputs": [
    {
     "name": "stdout",
     "output_type": "stream",
     "text": [
      "Label for above image: 1\n"
     ]
    }
   ],
   "source": [
    "print('Label for above image: {}'.format(digits.target[1]))"
   ]
  },
  {
   "cell_type": "markdown",
   "metadata": {},
   "source": [
    "![](https://miro.medium.com/max/562/1*RQ6ICt_FBSx6mkAsGVwx8g.png)"
   ]
  },
  {
   "cell_type": "markdown",
   "metadata": {},
   "source": [
    "![](https://miro.medium.com/max/589/1*nHgtmYqQGiM6_D_TU75J8g.png)\n",
    "![](https://miro.medium.com/max/1400/1*ool361dWI61RMDyUAmalmA.png)"
   ]
  },
  {
   "cell_type": "markdown",
   "metadata": {
    "slideshow": {
     "slide_type": "subslide"
    }
   },
   "source": [
    "# Ridge Regression model \n",
    "\n",
    "https://en.wikipedia.org/wiki/Tikhonov_regularization\n",
    "\n",
    "https://www.math.uwaterloo.ca/~hwolkowi/matrixcookbook.pdf\n",
    "## $y=wx_i$ where $w\\in{\\rm I\\!R}^{n}$\n",
    "i.e. if dimensions $n=2$;    $y_{i} = f(x_{i}) = \\begin{bmatrix} w_{0}, w_{1} \\end{bmatrix} \\begin{bmatrix} x_{0} \\\\ x_{1} \\end{bmatrix} = w_{0}x_{0} + w_{1}x_{1}$\n",
    "\n",
    "$\\hat{y}=\\mathbf{X}w$\n",
    "<br>\n",
    "<br>"
   ]
  },
  {
   "cell_type": "markdown",
   "metadata": {
    "slideshow": {
     "slide_type": "subslide"
    }
   },
   "source": [
    "## Ridge Regression cost function \n",
    "$$ J(w)= \\sum_i (w^T x_i - y_i)^2 = {\\bf ||} \\mathbf{X} w-y {\\bf ||}^2_{2} $$"
   ]
  },
  {
   "attachments": {
    "image.png": {
     "image/png": "[encoded data removed]"
    }
   },
   "cell_type": "markdown",
   "metadata": {},
   "source": [
    "![image.png](attachment:image.png)"
   ]
  },
  {
   "cell_type": "markdown",
   "metadata": {},
   "source": [
    "$$\\min_{w} \\, (\\mathbf{y} - \\mathbf{X} w)^\\mathsf{T}(\\mathbf{y} - \\mathbf{X} w) $$"
   ]
  },
  {
   "cell_type": "markdown",
   "metadata": {},
   "source": [
    "$$\\frac{\\partial (\\mathbf{y} - \\mathbf{X} w)^\\mathsf{T}(\\mathbf{y} - \\mathbf{X} w)}{\\partial w}=-2X^T(y-\\mathbf{X} w)$$"
   ]
  },
  {
   "cell_type": "markdown",
   "metadata": {},
   "source": [
    "$$\\frac{\\partial (\\mathbf{y} - \\mathbf{X} w)^\\mathsf{T}(\\mathbf{y} - \\mathbf{X} w)}{\\partial w}=-2X^T(y-\\mathbf{X} w) = 0$$"
   ]
  },
  {
   "cell_type": "markdown",
   "metadata": {},
   "source": [
    "$$y=\\mathbf{X} w$$"
   ]
  },
  {
   "cell_type": "markdown",
   "metadata": {},
   "source": [
    "$$w = \\mathbf{X}^{-1} y$$"
   ]
  },
  {
   "cell_type": "code",
   "execution_count": 15,
   "metadata": {},
   "outputs": [],
   "source": [
    "# Split the labelled dataset into a training set and test set\n",
    "index_to_split = -1\n",
    "\n",
    "X_train = digits.data[:index_to_split] # Label Target  is drop\n",
    "y_train = digits.target[:index_to_split]# Label target is selected \n",
    "\n",
    "X_test = digits.data[index_to_split:]\n",
    "y_test = digits.target[index_to_split:]"
   ]
  },
  {
   "cell_type": "markdown",
   "metadata": {},
   "source": [
    "## Modelling in Numpy"
   ]
  },
  {
   "cell_type": "code",
   "execution_count": 16,
   "metadata": {},
   "outputs": [
    {
     "name": "stdout",
     "output_type": "stream",
     "text": [
      "w: [-2.28119225e-15  9.40249350e-02 -3.67939617e-03 -7.72167429e-03\n",
      "  7.49514697e-02  1.15243563e-02 -2.72158636e-02 -7.31904304e-03\n",
      "  1.00102690e+00 -2.84132215e-02  1.18887868e-01  6.59994113e-02\n",
      " -5.58787175e-02 -7.04137172e-02  9.65429164e-02  2.56033005e-01\n",
      " -7.29405068e-01  2.40605548e-02  7.76124220e-02 -2.29357716e-02\n",
      " -5.66039721e-02  5.81134072e-02 -4.91673806e-02 -2.62755693e-01\n",
      " -9.08254598e-01 -1.49425933e-01  5.59359249e-02  8.97465435e-02\n",
      "  8.39772547e-02  9.83482587e-02  1.86692450e-03 -2.97298764e+00\n",
      "  3.52273387e-14 -1.54851687e-01 -8.97570476e-03  1.39494684e-01\n",
      " -3.67398683e-02  5.46737441e-02 -9.53756017e-03 -1.57172569e-14\n",
      "  1.00930061e-01  1.23968401e-01 -1.37042140e-02  5.34285543e-03\n",
      "  1.30949507e-01  5.51389202e-02  2.24650594e-02  7.76787978e-03\n",
      "  6.14807150e-01  2.67348801e-02  1.20233616e-03 -6.19644555e-02\n",
      " -2.06960828e-01 -3.39245068e-02  1.05783054e-01 -1.40682284e-01\n",
      " -1.01420937e+00 -1.13249749e-01  2.06527116e-02 -4.39417720e-02\n",
      "  1.85650152e-02 -6.65628180e-02  1.14557345e-02 -5.23335705e-02]\n"
     ]
    }
   ],
   "source": [
    "# Train model y = Xw\n",
    "X_train_inv = np.linalg.pinv(X_train)\n",
    "w = np.dot(X_train_inv, y_train)\n",
    "print('w: {}'.format(w))"
   ]
  },
  {
   "cell_type": "code",
   "execution_count": 17,
   "metadata": {},
   "outputs": [
    {
     "name": "stdout",
     "output_type": "stream",
     "text": [
      "y_hat: [9.30939946], rounds to 9\n",
      "Actual y label: [8]\n"
     ]
    },
    {
     "data": {
      "text/plain": [
       "<matplotlib.image.AxesImage at 0x1cee01416a0>"
      ]
     },
     "execution_count": 17,
     "metadata": {},
     "output_type": "execute_result"
    },
    {
     "data": {
      "image/png": "[encoded data removed]",
      "text/plain": [
       "<Figure size 432x288 with 1 Axes>"
      ]
     },
     "metadata": {
      "image/png": {
       "height": 248,
       "width": 245
      },
      "needs_background": "light"
     },
     "output_type": "display_data"
    }
   ],
   "source": [
    "# Test model\n",
    "y_hat = X_test @ w\n",
    "print('y_hat: {}, rounds to {}'.format(y_hat, int(np.round(y_hat)[0])))\n",
    "print('Actual y label: {}'.format(y_test))\n",
    "plt.figure()\n",
    "plt.imshow(16 - digits.images[-1], cmap='gray')"
   ]
  },
  {
   "cell_type": "markdown",
   "metadata": {},
   "source": [
    "## With Scikit-Learn"
   ]
  },
  {
   "cell_type": "code",
   "execution_count": 14,
   "metadata": {
    "slideshow": {
     "slide_type": "slide"
    }
   },
   "outputs": [],
   "source": [
    "from sklearn import linear_model\n",
    "reg = linear_model.Ridge(alpha=0)"
   ]
  },
  {
   "cell_type": "code",
   "execution_count": 15,
   "metadata": {},
   "outputs": [
    {
     "data": {
      "text/plain": [
       "Ridge(alpha=0, copy_X=True, fit_intercept=True, max_iter=None, normalize=False,\n",
       "      random_state=None, solver='auto', tol=0.001)"
      ]
     },
     "execution_count": 15,
     "metadata": {},
     "output_type": "execute_result"
    }
   ],
   "source": [
    "reg.fit(X_train, y_train)"
   ]
  },
  {
   "cell_type": "code",
   "execution_count": 16,
   "metadata": {
    "slideshow": {
     "slide_type": "subslide"
    }
   },
   "outputs": [
    {
     "name": "stdout",
     "output_type": "stream",
     "text": [
      "y_hat: [8.73804868], rounds to 9\n",
      "Actual y label: [8]\n"
     ]
    },
    {
     "data": {
      "text/plain": [
       "<matplotlib.image.AxesImage at 0x7fbdb1512650>"
      ]
     },
     "execution_count": 16,
     "metadata": {},
     "output_type": "execute_result"
    },
    {
     "data": {
      "image/png": "[encoded data removed]",
      "text/plain": [
       "<Figure size 432x288 with 1 Axes>"
      ]
     },
     "metadata": {
      "image/png": {
       "height": 248,
       "width": 245
      },
      "needs_background": "light"
     },
     "output_type": "display_data"
    }
   ],
   "source": [
    "y_hat = reg.predict(X_test)\n",
    "print('y_hat: {}, rounds to {}'.format(y_hat, int(np.round(y_hat)[0])))\n",
    "print('Actual y label: {}'.format(y_test))\n",
    "plt.figure()\n",
    "plt.imshow(16 - digits.images[-1], cmap='gray')"
   ]
  },
  {
   "cell_type": "code",
   "execution_count": 17,
   "metadata": {},
   "outputs": [
    {
     "data": {
      "text/plain": [
       "['ARDRegression',\n",
       " 'BayesianRidge',\n",
       " 'ElasticNet',\n",
       " 'ElasticNetCV',\n",
       " 'Hinge',\n",
       " 'Huber',\n",
       " 'HuberRegressor',\n",
       " 'Lars',\n",
       " 'LarsCV',\n",
       " 'Lasso',\n",
       " 'LassoCV',\n",
       " 'LassoLars',\n",
       " 'LassoLarsCV',\n",
       " 'LassoLarsIC',\n",
       " 'LinearRegression',\n",
       " 'Log',\n",
       " 'LogisticRegression',\n",
       " 'LogisticRegressionCV',\n",
       " 'ModifiedHuber',\n",
       " 'MultiTaskElasticNet',\n",
       " 'MultiTaskElasticNetCV',\n",
       " 'MultiTaskLasso',\n",
       " 'MultiTaskLassoCV',\n",
       " 'OrthogonalMatchingPursuit',\n",
       " 'OrthogonalMatchingPursuitCV',\n",
       " 'PassiveAggressiveClassifier',\n",
       " 'PassiveAggressiveRegressor',\n",
       " 'Perceptron',\n",
       " 'RANSACRegressor',\n",
       " 'Ridge',\n",
       " 'RidgeCV',\n",
       " 'RidgeClassifier',\n",
       " 'RidgeClassifierCV',\n",
       " 'SGDClassifier',\n",
       " 'SGDRegressor',\n",
       " 'SquaredLoss',\n",
       " 'TheilSenRegressor',\n",
       " '__all__',\n",
       " '__builtins__',\n",
       " '__cached__',\n",
       " '__doc__',\n",
       " '__file__',\n",
       " '__loader__',\n",
       " '__name__',\n",
       " '__package__',\n",
       " '__path__',\n",
       " '__spec__',\n",
       " '_base',\n",
       " '_bayes',\n",
       " '_cd_fast',\n",
       " '_coordinate_descent',\n",
       " '_huber',\n",
       " '_least_angle',\n",
       " '_logistic',\n",
       " '_omp',\n",
       " '_passive_aggressive',\n",
       " '_perceptron',\n",
       " '_ransac',\n",
       " '_ridge',\n",
       " '_sag',\n",
       " '_sag_fast',\n",
       " '_sgd_fast',\n",
       " '_stochastic_gradient',\n",
       " '_theil_sen',\n",
       " 'enet_path',\n",
       " 'lars_path',\n",
       " 'lars_path_gram',\n",
       " 'lasso_path',\n",
       " 'logistic_regression_path',\n",
       " 'orthogonal_mp',\n",
       " 'orthogonal_mp_gram',\n",
       " 'ridge_regression']"
      ]
     },
     "execution_count": 17,
     "metadata": {},
     "output_type": "execute_result"
    }
   ],
   "source": [
    "dir(linear_model)"
   ]
  },
  {
   "cell_type": "code",
   "execution_count": 18,
   "metadata": {},
   "outputs": [
    {
     "name": "stdout",
     "output_type": "stream",
     "text": [
      "Linear least squares with l2 regularization.\n",
      "\n",
      "    Minimizes the objective function::\n",
      "\n",
      "    ||y - Xw||^2_2 + alpha * ||w||^2_2\n",
      "\n",
      "    This model solves a regression model where the loss function is\n",
      "    the linear least squares function and regularization is given by\n",
      "    the l2-norm. Also known as Ridge Regression or Tikhonov regularization.\n",
      "    This estimator has built-in support for multi-variate regression\n",
      "    (i.e., when y is a 2d-array of shape (n_samples, n_targets)).\n",
      "\n",
      "    Read more in the :ref:`User Guide <ridge_regression>`.\n",
      "\n",
      "    Parameters\n",
      "    ----------\n",
      "    alpha : {float, ndarray of shape (n_targets,)}, default=1.0\n",
      "        Regularization strength; must be a positive float. Regularization\n",
      "        improves the conditioning of the problem and reduces the variance of\n",
      "        the estimates. Larger values specify stronger regularization.\n",
      "        Alpha corresponds to ``C^-1`` in other linear models such as\n",
      "        LogisticRegression or LinearSVC. If an array is passed, penalties are\n",
      "        assumed to be specific to the targets. Hence they must correspond in\n",
      "        number.\n",
      "\n",
      "    fit_intercept : bool, default=True\n",
      "        Whether to calculate the intercept for this model. If set\n",
      "        to false, no intercept will be used in calculations\n",
      "        (i.e. data is expected to be centered).\n",
      "\n",
      "    normalize : bool, default=False\n",
      "        This parameter is ignored when ``fit_intercept`` is set to False.\n",
      "        If True, the regressors X will be normalized before regression by\n",
      "        subtracting the mean and dividing by the l2-norm.\n",
      "        If you wish to standardize, please use\n",
      "        :class:`sklearn.preprocessing.StandardScaler` before calling ``fit``\n",
      "        on an estimator with ``normalize=False``.\n",
      "\n",
      "    copy_X : bool, default=True\n",
      "        If True, X will be copied; else, it may be overwritten.\n",
      "\n",
      "    max_iter : int, default=None\n",
      "        Maximum number of iterations for conjugate gradient solver.\n",
      "        For 'sparse_cg' and 'lsqr' solvers, the default value is determined\n",
      "        by scipy.sparse.linalg. For 'sag' solver, the default value is 1000.\n",
      "\n",
      "    tol : float, default=1e-3\n",
      "        Precision of the solution.\n",
      "\n",
      "    solver : {'auto', 'svd', 'cholesky', 'lsqr', 'sparse_cg', 'sag', 'saga'},         default='auto'\n",
      "        Solver to use in the computational routines:\n",
      "\n",
      "        - 'auto' chooses the solver automatically based on the type of data.\n",
      "\n",
      "        - 'svd' uses a Singular Value Decomposition of X to compute the Ridge\n",
      "          coefficients. More stable for singular matrices than\n",
      "          'cholesky'.\n",
      "\n",
      "        - 'cholesky' uses the standard scipy.linalg.solve function to\n",
      "          obtain a closed-form solution.\n",
      "\n",
      "        - 'sparse_cg' uses the conjugate gradient solver as found in\n",
      "          scipy.sparse.linalg.cg. As an iterative algorithm, this solver is\n",
      "          more appropriate than 'cholesky' for large-scale data\n",
      "          (possibility to set `tol` and `max_iter`).\n",
      "\n",
      "        - 'lsqr' uses the dedicated regularized least-squares routine\n",
      "          scipy.sparse.linalg.lsqr. It is the fastest and uses an iterative\n",
      "          procedure.\n",
      "\n",
      "        - 'sag' uses a Stochastic Average Gradient descent, and 'saga' uses\n",
      "          its improved, unbiased version named SAGA. Both methods also use an\n",
      "          iterative procedure, and are often faster than other solvers when\n",
      "          both n_samples and n_features are large. Note that 'sag' and\n",
      "          'saga' fast convergence is only guaranteed on features with\n",
      "          approximately the same scale. You can preprocess the data with a\n",
      "          scaler from sklearn.preprocessing.\n",
      "\n",
      "        All last five solvers support both dense and sparse data. However, only\n",
      "        'sparse_cg' supports sparse input when `fit_intercept` is True.\n",
      "\n",
      "        .. versionadded:: 0.17\n",
      "           Stochastic Average Gradient descent solver.\n",
      "        .. versionadded:: 0.19\n",
      "           SAGA solver.\n",
      "\n",
      "    random_state : int, RandomState instance, default=None\n",
      "        The seed of the pseudo random number generator to use when shuffling\n",
      "        the data.  If int, random_state is the seed used by the random number\n",
      "        generator; If RandomState instance, random_state is the random number\n",
      "        generator; If None, the random number generator is the RandomState\n",
      "        instance used by `np.random`. Used when ``solver`` == 'sag'.\n",
      "\n",
      "        .. versionadded:: 0.17\n",
      "           *random_state* to support Stochastic Average Gradient.\n",
      "\n",
      "    Attributes\n",
      "    ----------\n",
      "    coef_ : ndarray of shape (n_features,) or (n_targets, n_features)\n",
      "        Weight vector(s).\n",
      "\n",
      "    intercept_ : float or ndarray of shape (n_targets,)\n",
      "        Independent term in decision function. Set to 0.0 if\n",
      "        ``fit_intercept = False``.\n",
      "\n",
      "    n_iter_ : None or ndarray of shape (n_targets,)\n",
      "        Actual number of iterations for each target. Available only for\n",
      "        sag and lsqr solvers. Other solvers will return None.\n",
      "\n",
      "        .. versionadded:: 0.17\n",
      "\n",
      "    See also\n",
      "    --------\n",
      "    RidgeClassifier : Ridge classifier\n",
      "    RidgeCV : Ridge regression with built-in cross validation\n",
      "    :class:`sklearn.kernel_ridge.KernelRidge` : Kernel ridge regression\n",
      "        combines ridge regression with the kernel trick\n",
      "\n",
      "    Examples\n",
      "    --------\n",
      "    >>> from sklearn.linear_model import Ridge\n",
      "    >>> import numpy as np\n",
      "    >>> n_samples, n_features = 10, 5\n",
      "    >>> rng = np.random.RandomState(0)\n",
      "    >>> y = rng.randn(n_samples)\n",
      "    >>> X = rng.randn(n_samples, n_features)\n",
      "    >>> clf = Ridge(alpha=1.0)\n",
      "    >>> clf.fit(X, y)\n",
      "    Ridge()\n",
      "    \n"
     ]
    }
   ],
   "source": [
    "# Documentation on the model\n",
    "print(reg.__doc__)"
   ]
  },
  {
   "cell_type": "code",
   "execution_count": 19,
   "metadata": {
    "slideshow": {
     "slide_type": "slide"
    }
   },
   "outputs": [
    {
     "name": "stdout",
     "output_type": "stream",
     "text": [
      "w: [-5.64361534e+13  1.37530143e-01 -3.64724634e-03 -8.27022484e-03\n",
      "  6.13728748e-02 -2.04166835e-02 -6.53482332e-03  5.55815748e-02\n",
      "  1.77335806e+00 -5.20006856e-02  1.16527620e-01  4.56980228e-02\n",
      " -6.95224716e-02 -5.78517511e-02  9.72116633e-02  1.09081886e-01\n",
      " -9.95272005e-01  3.60096056e-02  7.08214345e-02 -2.69839722e-02\n",
      " -7.21444476e-02  4.48732443e-02 -9.18408762e-02 -5.77045782e-02\n",
      " -1.54096064e+00 -1.87986249e-01  4.30050090e-02  8.00514971e-02\n",
      "  7.73220503e-02  8.90310072e-02  3.42388366e-03 -2.88785429e+00\n",
      " -6.50143647e+13 -9.41027930e-02 -3.36438284e-02  1.43253935e-01\n",
      " -6.19287462e-02  4.45251030e-02 -4.98314077e-02  6.67553014e+13\n",
      " -1.11865788e-01  1.00848937e-01 -3.03298969e-02  4.00432754e-03\n",
      "  1.21240361e-01  4.98525496e-02  2.80670807e-02  3.00484447e-01\n",
      "  4.81295608e-01  4.20789961e-02 -1.15768461e-03 -7.68555102e-02\n",
      " -2.00680184e-01 -3.67612934e-02  1.01791074e-01 -1.82111055e-01\n",
      " -1.42101961e+00 -1.67359821e-01 -8.76702593e-03 -7.71823803e-02\n",
      " -1.13506784e-02 -6.53106002e-02 -2.38011956e-02 -2.48089173e-02]\n",
      "Shape (64,)\n"
     ]
    }
   ],
   "source": [
    "print('w: {}'.format(reg.coef_))\n",
    "print('Shape {}'.format(reg.coef_.shape))"
   ]
  }
 ],
 "metadata": {
  "kernelspec": {
   "display_name": "Python 3 (ipykernel)",
   "language": "python",
   "name": "python3"
  },
  "language_info": {
   "codemirror_mode": {
    "name": "ipython",
    "version": 3
   },
   "file_extension": ".py",
   "mimetype": "text/x-python",
   "name": "python",
   "nbconvert_exporter": "python",
   "pygments_lexer": "ipython3",
   "version": "3.9.12"
  },
  "varInspector": {
   "cols": {
    "lenName": 16,
    "lenType": 16,
    "lenVar": 40
   },
   "kernels_config": {
    "python": {
     "delete_cmd_postfix": "",
     "delete_cmd_prefix": "del ",
     "library": "var_list.py",
     "varRefreshCmd": "print(var_dic_list())"
    },
    "r": {
     "delete_cmd_postfix": ") ",
     "delete_cmd_prefix": "rm(",
     "library": "var_list.r",
     "varRefreshCmd": "cat(var_dic_list()) "
    }
   },
   "oldHeight": 510.98933399999993,
   "position": {
    "height": "531.651px",
    "left": "633.667px",
    "right": "20px",
    "top": "89px",
    "width": "356.323px"
   },
   "types_to_exclude": [
    "module",
    "function",
    "builtin_function_or_method",
    "instance",
    "_Feature"
   ],
   "varInspector_section_display": "block",
   "window_display": false
  }
 },
 "nbformat": 4,
 "nbformat_minor": 2
}
