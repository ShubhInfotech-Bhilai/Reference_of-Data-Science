{
 "cells": [
  {
   "cell_type": "markdown",
   "id": "033ccd74",
   "metadata": {},
   "source": [
    "https://online.stat.psu.edu/statprogram/reviews/statistical-concepts/hypothesis-testing/examples"
   ]
  },
  {
   "cell_type": "code",
   "execution_count": 20,
   "id": "09776e08",
   "metadata": {},
   "outputs": [
    {
     "name": "stdout",
     "output_type": "stream",
     "text": [
      "390\n"
     ]
    }
   ],
   "source": [
    "import pandas as pd\n",
    "\n",
    "data = {\n",
    "  \"calories\": [420, 380, 390],\n",
    "  \"duration\": [50, 40, 45]\n",
    "}\n",
    "\n",
    "#load data into a DataFrame object:\n",
    "df = pd.DataFrame(data)\n",
    "\n",
    "print(df['calories'][2]) "
   ]
  },
  {
   "cell_type": "markdown",
   "id": "598c331e",
   "metadata": {},
   "source": [
    "**Point Estimation**\n",
    "\n",
    "**The largest part of statistics is about taking a sample from the population and using those as an estimation of the overall population. The idea of point estimation is to calculate a single value(statistic) by using sample data from the population. For example, it can be inference about the quality of some products based on sample data observations.\n",
    "\n",
    "**Example. Figure out if the quality of the product good enough by having sample data from the normally distributed large population.\n",
    "\n",
    "**For this example, we generate 10000 normally distributed values with a mean equal to 40 and then find the point estimator — sample mean of the sample with the size equal to 40.**\n"
   ]
  },
  {
   "cell_type": "markdown",
   "id": "c756fd27",
   "metadata": {},
   "source": [
    "![](https://cqeacademy.com/wp-content/uploads/2017/12/Point-Estimate-Interval-Estimate.jpg)"
   ]
  },
  {
   "cell_type": "markdown",
   "id": "56b1dd36",
   "metadata": {},
   "source": [
    "![](https://slidetodoc.com/presentation_image/ad34ff1c4c49afd47590db8162874d4f/image-18.jpg)"
   ]
  },
  {
   "cell_type": "code",
   "execution_count": 2,
   "id": "b644a460",
   "metadata": {},
   "outputs": [],
   "source": [
    "\n",
    "import matplotlib.pyplot as plt\n",
    "import numpy as np\n",
    "expected_value = lambda values: sum(values) / len(values) \n",
    "standard_deviation = lambda values, expected_value: np.sqrt(sum([(v - expected_value)**2 for v in values])  / len(values))\n"
   ]
  },
  {
   "cell_type": "code",
   "execution_count": 3,
   "id": "0ebbc501",
   "metadata": {},
   "outputs": [
    {
     "name": "stdout",
     "output_type": "stream",
     "text": [
      "overall population:\n",
      "            expected value: 39.996930493922\n",
      "            standard deviation: 1.0018663813545605\n",
      "    \n"
     ]
    }
   ],
   "source": [
    "mu, sigma = 40, 1\n",
    "population = np.random.normal(mu, sigma, 100000)\n",
    "mean = expected_value(population)\n",
    "print(\n",
    "    '''overall population:\n",
    "            expected value: {0}\n",
    "            standard deviation: {1}\n",
    "    '''.format(mean, standard_deviation(population, mean))\n",
    ")"
   ]
  },
  {
   "cell_type": "code",
   "execution_count": 4,
   "id": "98f993e6",
   "metadata": {},
   "outputs": [
    {
     "data": {
      "image/png": "[encoded data removed]",
      "text/plain": [
       "<Figure size 432x288 with 1 Axes>"
      ]
     },
     "metadata": {
      "needs_background": "light"
     },
     "output_type": "display_data"
    }
   ],
   "source": [
    "plt.hist(population, 60, density=True)\n",
    "plt.show()\n"
   ]
  },
  {
   "cell_type": "code",
   "execution_count": 11,
   "id": "da342679",
   "metadata": {},
   "outputs": [
    {
     "name": "stdout",
     "output_type": "stream",
     "text": [
      "randomly selected items:\n",
      "            expected value: 39.90562616913874\n",
      "            standard deviation: 0.8566177664770539\n",
      "    \n"
     ]
    },
    {
     "data": {
      "image/png": "[encoded data removed]",
      "text/plain": [
       "<Figure size 432x288 with 1 Axes>"
      ]
     },
     "metadata": {
      "needs_background": "light"
     },
     "output_type": "display_data"
    }
   ],
   "source": [
    "from random import choice\n",
    "randomly_selected_items = [choice(population) for _ in range(50)]\n",
    "\n",
    "mean = expected_value(randomly_selected_items)\n",
    "s_d=standard_deviation(randomly_selected_items, mean)\n",
    "\n",
    "print(\n",
    "    '''randomly selected items:\n",
    "            expected value: {0}\n",
    "            standard deviation: {1}\n",
    "    '''.format(mean, standard_deviation(randomly_selected_items, mean)))\n",
    "plt.hist(randomly_selected_items, 10, density=False)\n",
    "plt.show()"
   ]
  },
  {
   "cell_type": "code",
   "execution_count": 14,
   "id": "6ff678c7",
   "metadata": {},
   "outputs": [],
   "source": [
    "from scipy.stats import norm\n",
    "xs=np.arange(30,45,0.001)\n",
    "actual_ys=norm.pdf(xs,mu,sigma)\n",
    "ys=norm.pdf(xs,mean,s_d)"
   ]
  },
  {
   "cell_type": "code",
   "execution_count": 15,
   "id": "77cfc08c",
   "metadata": {},
   "outputs": [
    {
     "data": {
      "image/png": "[encoded data removed]",
      "text/plain": [
       "<Figure size 432x288 with 1 Axes>"
      ]
     },
     "metadata": {
      "needs_background": "light"
     },
     "output_type": "display_data"
    }
   ],
   "source": [
    "plt.plot(xs,actual_ys,label=\"Actual Population Distribution\")\n",
    "plt.plot(xs,ys,label=\"Sample  Distribution\")\n",
    "plt.legend()\n",
    "plt.show()"
   ]
  },
  {
   "cell_type": "code",
   "execution_count": 22,
   "id": "1d74c7b9",
   "metadata": {},
   "outputs": [
    {
     "data": {
      "text/plain": [
       "array([ 1.12724554, -1.2469956 , -0.05542642,  1.09231569,  1.16645923,\n",
       "       -0.8558472 ,  0.57858329,  0.67480514, -1.14879659, -1.33234306])"
      ]
     },
     "execution_count": 22,
     "metadata": {},
     "output_type": "execute_result"
    }
   ],
   "source": [
    "def Z_score():\n",
    "    a = np.array([ 0.7972,  0.0767,  0.4383,  0.7866,  0.8091,  0.1954, 0.6307, 0.6599,  0.1065,  0.0508])\n",
    "    std = np.std(a)\n",
    "    mean = np.mean(a)\n",
    "    b = (a-mean)/std\n",
    "\n",
    "    return (b)\n",
    "Z_score()"
   ]
  },
  {
   "cell_type": "code",
   "execution_count": null,
   "id": "0c51d801",
   "metadata": {},
   "outputs": [],
   "source": []
  }
 ],
 "metadata": {
  "kernelspec": {
   "display_name": "Python 3 (ipykernel)",
   "language": "python",
   "name": "python3"
  },
  "language_info": {
   "codemirror_mode": {
    "name": "ipython",
    "version": 3
   },
   "file_extension": ".py",
   "mimetype": "text/x-python",
   "name": "python",
   "nbconvert_exporter": "python",
   "pygments_lexer": "ipython3",
   "version": "3.9.12"
  }
 },
 "nbformat": 4,
 "nbformat_minor": 5
}
